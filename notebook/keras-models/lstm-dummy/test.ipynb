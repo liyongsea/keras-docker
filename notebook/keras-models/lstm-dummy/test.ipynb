{
 "cells": [
  {
   "cell_type": "code",
   "execution_count": 1,
   "metadata": {
    "collapsed": false
   },
   "outputs": [
    {
     "data": {
      "text/html": [
       "<style>\n",
       ".container { width:80% !important; }\n",
       "</style>"
      ],
      "text/plain": [
       "<IPython.core.display.HTML object>"
      ]
     },
     "metadata": {},
     "output_type": "display_data"
    }
   ],
   "source": [
    "%%html\n",
    "<style>\n",
    ".container { width:80% !important; }\n",
    "</style>"
   ]
  },
  {
   "cell_type": "code",
   "execution_count": 2,
   "metadata": {
    "collapsed": false
   },
   "outputs": [
    {
     "name": "stdout",
     "output_type": "stream",
     "text": [
      "Populating the interactive namespace from numpy and matplotlib\n"
     ]
    }
   ],
   "source": [
    "%pylab inline"
   ]
  },
  {
   "cell_type": "code",
   "execution_count": 3,
   "metadata": {
    "collapsed": false
   },
   "outputs": [
    {
     "data": {
      "text/plain": [
       "array([ 0.,  0.,  0.,  0.,  0.,  0.,  0.,  0.,  0.,  0.])"
      ]
     },
     "execution_count": 3,
     "metadata": {},
     "output_type": "execute_result"
    }
   ],
   "source": [
    "np.zeros(10)"
   ]
  },
  {
   "cell_type": "code",
   "execution_count": 4,
   "metadata": {
    "collapsed": true
   },
   "outputs": [],
   "source": [
    "def dummy(N, label=0):\n",
    "    signal_len = 8\n",
    "    if N < 2:\n",
    "        raise ValueError(\"hi\")\n",
    "    L = N * 10\n",
    "    x = 0.1 * np.random.rand(L)\n",
    "    if not label:\n",
    "        return x\n",
    "    pos = np.random.randint(0, L - signal_len)\n",
    "    x[pos: pos + signal_len] = 1\n",
    "    return x\n",
    "\n",
    "def dummy2stream(d, T_max=20):\n",
    "    \"\"\"input dim = 10\n",
    "    \"\"\"\n",
    "    T = len(d) / 10\n",
    "    if T > T_max:\n",
    "        raise ValueError(\"T > T_max\")\n",
    "    out = - np.ones((T_max, 10))\n",
    "    d = np.reshape(d, (T, 10))\n",
    "    out[:T, :] = d\n",
    "    return out, T"
   ]
  },
  {
   "cell_type": "code",
   "execution_count": 5,
   "metadata": {
    "collapsed": false
   },
   "outputs": [
    {
     "name": "stdout",
     "output_type": "stream",
     "text": [
      "(110,)\n"
     ]
    },
    {
     "data": {
      "image/png": "[encoded data removed]",
      "text/plain": [
       "<matplotlib.figure.Figure at 0x7f0a7c010790>"
      ]
     },
     "metadata": {},
     "output_type": "display_data"
    }
   ],
   "source": [
    "plt.figure(figsize=(20, 5))\n",
    "D = dummy(11, 1)\n",
    "plt.plot(D)\n",
    "print D.shape"
   ]
  },
  {
   "cell_type": "code",
   "execution_count": 6,
   "metadata": {
    "collapsed": false
   },
   "outputs": [
    {
     "name": "stdout",
     "output_type": "stream",
     "text": [
      "(20, 10)\n",
      "[ 0.09487667  0.01704678  0.03132586  0.0823134   0.02735976  1.\n",
      "  0.03901075  0.04023552  0.01443742  0.09180567  0.05838448 -1.         -1.\n",
      " -1.         -1.         -1.         -1.         -1.         -1.         -1.        ]\n"
     ]
    }
   ],
   "source": [
    "d_stream, d_len = dummy2stream(D)\n",
    "print d_stream.shape\n",
    "d_len, d_stream[0] == D[: 10]\n",
    "print d_stream[:, 0]"
   ]
  },
  {
   "cell_type": "code",
   "execution_count": 7,
   "metadata": {
    "collapsed": false
   },
   "outputs": [],
   "source": [
    "import h5py\n"
   ]
  },
  {
   "cell_type": "code",
   "execution_count": 8,
   "metadata": {
    "collapsed": false
   },
   "outputs": [],
   "source": [
    "d_stream, d_len = dummy2stream(D)\n",
    "d_len, d_stream[0] == D[: 10]\n",
    "N, T, V = 100, 20, 10\n",
    "V_out = 2\n",
    "for setname, N in [(\"train\", 1000), (\"test\", 100)]:\n",
    "    h5 = h5py.File(\"data/%s.h5\" % setname, \"w\")\n",
    "    h5.create_dataset(\"data\", shape=(N, T, V), dtype='f8')\n",
    "    h5.create_dataset(\"label\", shape=(N, V_out), dtype='f8')\n",
    "    np.random.seed(20)\n",
    "    for i in range(N):\n",
    "        l = np.random.rand() > 0.5\n",
    "        D = dummy(np.random.randint(10, 20), l)\n",
    "        d_stream, d_len = dummy2stream(D)\n",
    "        h5[\"data\"][i] = d_stream\n",
    "        h5[\"label\"][i, :] = (l, 1 - l)\n",
    "    h5.close()"
   ]
  },
  {
   "cell_type": "code",
   "execution_count": 9,
   "metadata": {
    "collapsed": true
   },
   "outputs": [],
   "source": [
    "h5 = h5py.File(\"data/train.h5\", \"r\")"
   ]
  },
  {
   "cell_type": "code",
   "execution_count": 10,
   "metadata": {
    "collapsed": false
   },
   "outputs": [
    {
     "data": {
      "text/plain": [
       "array([ 1.,  0.])"
      ]
     },
     "execution_count": 10,
     "metadata": {},
     "output_type": "execute_result"
    }
   ],
   "source": [
    "h5[\"label\"][0]"
   ]
  },
  {
   "cell_type": "code",
   "execution_count": 11,
   "metadata": {
    "collapsed": false
   },
   "outputs": [],
   "source": [
    "ind = 2\n",
    "x = np.reshape(h5[\"data\"][ind, :, :], (200, ))\n",
    "plt.figure(figsize=(20, 5))\n",
    "print h5[\"label\"][ind]\n",
    "plt.plot(x)\n"
   ]
  },
  {
   "cell_type": "code",
   "execution_count": 13,
   "metadata": {
    "collapsed": false
   },
   "outputs": [],
   "source": [
    "h5.close()"
   ]
  },
  {
   "cell_type": "markdown",
   "metadata": {},
   "source": [
    "# Learning"
   ]
  },
  {
   "cell_type": "code",
   "execution_count": 14,
   "metadata": {
    "collapsed": true
   },
   "outputs": [],
   "source": [
    "h5 = h5py.File(\"data/train.h5\", \"r\")"
   ]
  },
  {
   "cell_type": "code",
   "execution_count": 19,
   "metadata": {
    "collapsed": false
   },
   "outputs": [
    {
     "data": {
      "text/plain": [
       "((1000, 20, 10), (1000, 2))"
      ]
     },
     "execution_count": 19,
     "metadata": {},
     "output_type": "execute_result"
    }
   ],
   "source": [
    "h5[\"data\"].shape, h5[\"label\"].shape"
   ]
  },
  {
   "cell_type": "code",
   "execution_count": 20,
   "metadata": {
    "collapsed": false
   },
   "outputs": [],
   "source": [
    "from keras.models import Sequential  \n",
    "from keras.layers.core import Dense, Activation, TimeDistributedDense, Masking\n",
    "from keras.layers.recurrent import LSTM"
   ]
  },
  {
   "cell_type": "code",
   "execution_count": 118,
   "metadata": {
    "collapsed": false
   },
   "outputs": [],
   "source": [
    "in_out_neurons = 10\n",
    "hidden_neurons = 300\n",
    "output_shape = 2\n",
    "\n",
    "model = Sequential()  \n",
    "#model.add(Masking(mask_value=-1.0, input_shape=(in_out_neurons,)))\n",
    "model.add(Masking(mask_value=-1.0, input_shape=(20, 10)))\n",
    "model.add(LSTM(input_dim=in_out_neurons, output_dim=hidden_neurons, return_sequences=False))  \n",
    "model.add(Dense(output_shape))  \n",
    "model.add(Activation(\"sigmoid\"))  \n",
    "model.compile(loss=\"categorical_crossentropy\", optimizer=\"rmsprop\")  "
   ]
  },
  {
   "cell_type": "code",
   "execution_count": 119,
   "metadata": {
    "collapsed": false,
    "scrolled": true
   },
   "outputs": [
    {
     "name": "stdout",
     "output_type": "stream",
     "text": [
      "Train on 950 samples, validate on 50 samples\n",
      "Epoch 1/50\n",
      "950/950 [==============================] - 2s - loss: 0.6927 - val_loss: 0.6935\n",
      "Epoch 2/50\n",
      "950/950 [==============================] - 2s - loss: 0.6920 - val_loss: 0.6932\n",
      "Epoch 3/50\n",
      "950/950 [==============================] - 2s - loss: 0.6912 - val_loss: 0.6933\n",
      "Epoch 4/50\n",
      "950/950 [==============================] - 2s - loss: 0.6901 - val_loss: 0.6927\n",
      "Epoch 5/50\n",
      "950/950 [==============================] - 2s - loss: 0.6885 - val_loss: 0.6904\n",
      "Epoch 6/50\n",
      "950/950 [==============================] - 2s - loss: 0.6834 - val_loss: 0.6785\n",
      "Epoch 7/50\n",
      "950/950 [==============================] - 2s - loss: 0.6741 - val_loss: 0.6786\n",
      "Epoch 8/50\n",
      "950/950 [==============================] - 2s - loss: 0.6633 - val_loss: 0.6595\n",
      "Epoch 9/50\n",
      "950/950 [==============================] - 2s - loss: 0.6604 - val_loss: 0.6587\n",
      "Epoch 10/50\n",
      "950/950 [==============================] - 2s - loss: 0.6595 - val_loss: 0.6596\n",
      "Epoch 11/50\n",
      "950/950 [==============================] - 2s - loss: 0.6560 - val_loss: 0.6544\n",
      "Epoch 12/50\n",
      "950/950 [==============================] - 2s - loss: 0.6536 - val_loss: 0.6693\n",
      "Epoch 13/50\n",
      "950/950 [==============================] - 2s - loss: 0.6524 - val_loss: 0.6502\n",
      "Epoch 14/50\n",
      "950/950 [==============================] - 2s - loss: 0.6502 - val_loss: 0.6493\n",
      "Epoch 15/50\n",
      "950/950 [==============================] - 2s - loss: 0.6482 - val_loss: 0.6491\n",
      "Epoch 16/50\n",
      "950/950 [==============================] - 2s - loss: 0.6463 - val_loss: 0.6499\n",
      "Epoch 17/50\n",
      "950/950 [==============================] - 2s - loss: 0.6465 - val_loss: 0.6600\n",
      "Epoch 18/50\n",
      "950/950 [==============================] - 2s - loss: 0.6479 - val_loss: 0.6524\n",
      "Epoch 19/50\n",
      "950/950 [==============================] - 2s - loss: 0.6473 - val_loss: 0.6440\n",
      "Epoch 20/50\n",
      "950/950 [==============================] - 2s - loss: 0.6435 - val_loss: 0.6438\n",
      "Epoch 21/50\n",
      "950/950 [==============================] - 2s - loss: 0.6398 - val_loss: 0.6585\n",
      "Epoch 22/50\n",
      "950/950 [==============================] - 2s - loss: 0.6399 - val_loss: 0.6439\n",
      "Epoch 23/50\n",
      "950/950 [==============================] - 2s - loss: 0.6383 - val_loss: 0.6403\n",
      "Epoch 24/50\n",
      "950/950 [==============================] - 2s - loss: 0.6384 - val_loss: 0.6372\n",
      "Epoch 25/50\n",
      "950/950 [==============================] - 2s - loss: 0.6393 - val_loss: 0.6329\n",
      "Epoch 26/50\n",
      "950/950 [==============================] - 2s - loss: 0.6731 - val_loss: 0.6352\n",
      "Epoch 27/50\n",
      "950/950 [==============================] - 2s - loss: 0.6383 - val_loss: 0.6346\n",
      "Epoch 28/50\n",
      "950/950 [==============================] - 2s - loss: 0.6360 - val_loss: 0.6437\n",
      "Epoch 29/50\n",
      "950/950 [==============================] - 2s - loss: 0.6381 - val_loss: 0.6388\n",
      "Epoch 30/50\n",
      "950/950 [==============================] - 2s - loss: 0.6371 - val_loss: 0.6292\n",
      "Epoch 31/50\n",
      "950/950 [==============================] - 2s - loss: 0.6352 - val_loss: 0.6279\n",
      "Epoch 32/50\n",
      "950/950 [==============================] - 2s - loss: 0.6354 - val_loss: 0.6273\n",
      "Epoch 33/50\n",
      "950/950 [==============================] - 2s - loss: 0.6335 - val_loss: 0.6273\n",
      "Epoch 34/50\n",
      "950/950 [==============================] - 2s - loss: 0.6357 - val_loss: 0.6306\n",
      "Epoch 35/50\n",
      "950/950 [==============================] - 2s - loss: 0.6337 - val_loss: 0.6234\n",
      "Epoch 36/50\n",
      "950/950 [==============================] - 2s - loss: 0.6340 - val_loss: 0.6252\n",
      "Epoch 37/50\n",
      "950/950 [==============================] - 2s - loss: 0.6326 - val_loss: 0.6227\n",
      "Epoch 38/50\n",
      "950/950 [==============================] - 2s - loss: 0.6337 - val_loss: 0.6236\n",
      "Epoch 39/50\n",
      "950/950 [==============================] - 2s - loss: 0.6316 - val_loss: 0.6263\n",
      "Epoch 40/50\n",
      "950/950 [==============================] - 2s - loss: 0.6330 - val_loss: 0.6230\n",
      "Epoch 41/50\n",
      "950/950 [==============================] - 2s - loss: 0.6315 - val_loss: 0.6217\n",
      "Epoch 42/50\n",
      "950/950 [==============================] - 2s - loss: 0.6309 - val_loss: 0.6198\n",
      "Epoch 43/50\n",
      "950/950 [==============================] - 2s - loss: 0.6326 - val_loss: 0.6207\n",
      "Epoch 44/50\n",
      "950/950 [==============================] - 2s - loss: 0.6309 - val_loss: 0.6228\n",
      "Epoch 45/50\n",
      "950/950 [==============================] - 2s - loss: 0.6309 - val_loss: 0.6195\n",
      "Epoch 46/50\n",
      "950/950 [==============================] - 2s - loss: 0.6306 - val_loss: 0.6185\n",
      "Epoch 47/50\n",
      "950/950 [==============================] - 2s - loss: 0.6305 - val_loss: 0.6191\n",
      "Epoch 48/50\n",
      "950/950 [==============================] - 2s - loss: 0.6303 - val_loss: 0.6962\n",
      "Epoch 49/50\n",
      "950/950 [==============================] - 2s - loss: 0.6564 - val_loss: 0.6196\n",
      "Epoch 50/50\n",
      "950/950 [==============================] - 2s - loss: 0.6306 - val_loss: 0.6190\n"
     ]
    },
    {
     "data": {
      "text/plain": [
       "<keras.callbacks.History at 0x7f0a15b85450>"
      ]
     },
     "execution_count": 119,
     "metadata": {},
     "output_type": "execute_result"
    }
   ],
   "source": [
    "model.fit(h5[\"data\"], h5[\"label\"], batch_size=100, nb_epoch=50, validation_split=0.05)"
   ]
  },
  {
   "cell_type": "code",
   "execution_count": 104,
   "metadata": {
    "collapsed": true
   },
   "outputs": [],
   "source": [
    "h5_test = h5py.File(\"data/test.h5\", \"r\")"
   ]
  },
  {
   "cell_type": "code",
   "execution_count": 105,
   "metadata": {
    "collapsed": false
   },
   "outputs": [
    {
     "data": {
      "text/plain": [
       "(100, 20, 10)"
      ]
     },
     "execution_count": 105,
     "metadata": {},
     "output_type": "execute_result"
    }
   ],
   "source": [
    "h5_test[\"data\"].shape"
   ]
  },
  {
   "cell_type": "code",
   "execution_count": 106,
   "metadata": {
    "collapsed": false
   },
   "outputs": [],
   "source": [
    "predicted = model.predict(np.array(h5[\"data\"]))"
   ]
  },
  {
   "cell_type": "code",
   "execution_count": 107,
   "metadata": {
    "collapsed": false
   },
   "outputs": [
    {
     "data": {
      "text/plain": [
       "(1000, 2)"
      ]
     },
     "execution_count": 107,
     "metadata": {},
     "output_type": "execute_result"
    }
   ],
   "source": [
    "predicted.shape"
   ]
  },
  {
   "cell_type": "code",
   "execution_count": 108,
   "metadata": {
    "collapsed": false
   },
   "outputs": [
    {
     "name": "stdout",
     "output_type": "stream",
     "text": [
      "[ 1.  0.] [  9.95925367e-01   1.60970812e-05]\n"
     ]
    },
    {
     "data": {
      "text/plain": [
       "[<matplotlib.lines.Line2D at 0x7f09f33aaa10>]"
      ]
     },
     "execution_count": 108,
     "metadata": {},
     "output_type": "execute_result"
    },
    {
     "data": {
      "image/png": "[encoded data removed]",
      "text/plain": [
       "<matplotlib.figure.Figure at 0x7f0a34126a10>"
      ]
     },
     "metadata": {},
     "output_type": "display_data"
    }
   ],
   "source": [
    "ind = 111\n",
    "x = np.reshape(h5[\"data\"][ind, :, :], (200, ))\n",
    "plt.figure(figsize=(20, 5))\n",
    "print h5[\"label\"][ind], predicted[ind]\n",
    "plt.plot(x)"
   ]
  },
  {
   "cell_type": "code",
   "execution_count": 117,
   "metadata": {
    "collapsed": false
   },
   "outputs": [
    {
     "data": {
      "text/plain": [
       "array([  1.00000000e+00,   1.00000000e+00,   1.00000000e+00,\n",
       "         1.00000000e+00,   1.00000000e+00,   1.00000000e+00,\n",
       "         8.16201448e-02,   6.44534997e-04,   6.01790842e-03,\n",
       "         6.03894372e-02])"
      ]
     },
     "execution_count": 117,
     "metadata": {},
     "output_type": "execute_result"
    }
   ],
   "source": [
    "h5[\"data\"][ind][10, :]"
   ]
  },
  {
   "cell_type": "code",
   "execution_count": null,
   "metadata": {
    "collapsed": true
   },
   "outputs": [],
   "source": []
  }
 ],
 "metadata": {
  "kernelspec": {
   "display_name": "Python 2",
   "language": "python",
   "name": "python2"
  },
  "language_info": {
   "codemirror_mode": {
    "name": "ipython",
    "version": 2
   },
   "file_extension": ".py",
   "mimetype": "text/x-python",
   "name": "python",
   "nbconvert_exporter": "python",
   "pygments_lexer": "ipython2",
   "version": "2.7.10"
  }
 },
 "nbformat": 4,
 "nbformat_minor": 0
}
